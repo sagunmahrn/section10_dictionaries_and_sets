{
 "cells": [
  {
   "cell_type": "markdown",
   "id": "4bd4c63b",
   "metadata": {},
   "source": [
    "### Inventory Status\n",
    "\n",
    "Our products and inventory levels are in the lists below.\n",
    "\n",
    "Run the cell below to create the lists."
   ]
  },
  {
   "cell_type": "code",
   "execution_count": 2,
   "id": "f792cd46",
   "metadata": {},
   "outputs": [],
   "source": [
    "items = ['skis', 'snowboard', 'goggles', 'boots']\n",
    "inventory = [10, 0, 0, 7] "
   ]
  },
  {
   "cell_type": "markdown",
   "id": "00324274",
   "metadata": {},
   "source": [
    "#### Inventory Status Dictionary\n",
    "\n",
    "Can you create a dictionary that:\n",
    "\n",
    "* Stores item name as keys\n",
    "* Values are 'sold out' if inventory is 0, and 'in stock' if not?\n",
    "\n",
    "Don't create this by writing out all the key value pairs!\n",
    "\n",
    "Thanks!"
   ]
  },
  {
   "cell_type": "code",
   "execution_count": 4,
   "id": "d3ba4f32",
   "metadata": {},
   "outputs": [],
   "source": [
    "inventory_status = {}\n"
   ]
  },
  {
   "cell_type": "code",
   "execution_count": 5,
   "id": "70e0112c",
   "metadata": {},
   "outputs": [
    {
     "data": {
      "text/plain": [
       "{'skis': 'in stock',\n",
       " 'snowboard': 'sold out',\n",
       " 'goggles': 'sold out',\n",
       " 'boots': 'in stock'}"
      ]
     },
     "execution_count": 5,
     "metadata": {},
     "output_type": "execute_result"
    }
   ],
   "source": [
    "inventory_status"
   ]
  },
  {
   "cell_type": "code",
   "execution_count": null,
   "id": "54401711",
   "metadata": {},
   "outputs": [],
   "source": []
  }
 ],
 "metadata": {
  "kernelspec": {
   "display_name": "Python 3 (ipykernel)",
   "language": "python",
   "name": "python3"
  },
  "language_info": {
   "codemirror_mode": {
    "name": "ipython",
    "version": 3
   },
   "file_extension": ".py",
   "mimetype": "text/x-python",
   "name": "python",
   "nbconvert_exporter": "python",
   "pygments_lexer": "ipython3",
   "version": "3.9.7"
  }
 },
 "nbformat": 4,
 "nbformat_minor": 5
}
