{
 "cells": [
  {
   "cell_type": "markdown",
   "id": "6d74af00",
   "metadata": {},
   "source": [
    "### Snack Dictionary\n",
    "\n",
    "Hey, the current snack dictionary is below - thanks for your help with this!\n",
    "\n",
    "Run this first cell to create the `snacks` dictionary."
   ]
  },
  {
   "cell_type": "code",
   "execution_count": 2,
   "id": "5a5784f0",
   "metadata": {},
   "outputs": [],
   "source": [
    "snacks = {\n",
    "    'Sally': 'Popcorn',\n",
    "    'Ricard': 'Chocolate Ice Cream',\n",
    "    'Stuart': 'Apple Pie',\n",
    "    'Jerry': 'Raisins',\n",
    "    'Sierra': 'Peanut Butter Cookies'\n",
    "}"
   ]
  },
  {
   "cell_type": "markdown",
   "id": "4a543a30",
   "metadata": {},
   "source": [
    "Can you lookup Stuart's favorite snack?"
   ]
  },
  {
   "cell_type": "code",
   "execution_count": 2,
   "id": "36f6342a",
   "metadata": {},
   "outputs": [
    {
     "data": {
      "text/plain": [
       "'Apple Pie'"
      ]
     },
     "execution_count": 2,
     "metadata": {},
     "output_type": "execute_result"
    }
   ],
   "source": []
  },
  {
   "cell_type": "markdown",
   "id": "e984e2be",
   "metadata": {},
   "source": [
    "Cool, that's one of my favorites too!\n",
    "\n",
    "Can you make the following changes do the dictionary?\n",
    "\n",
    "* Add me - 'Alfie', and my favorite snack, 'Cheese and Crackers'.\n",
    "* Change Jerry's favorite snack to 'Fig Bars'\n",
    "* Finally, remove Sierra, she never worked here, not sure how she got on the list."
   ]
  },
  {
   "cell_type": "code",
   "execution_count": 3,
   "id": "cad0e213",
   "metadata": {},
   "outputs": [
    {
     "data": {
      "text/plain": [
       "{'Sally': 'Popcorn',\n",
       " 'Ricard': 'Chocolate Ice Cream',\n",
       " 'Stuart': 'Apple Pie',\n",
       " 'Jerry': 'Fig Bars',\n",
       " 'Alfie': 'Cheese and Crackers'}"
      ]
     },
     "execution_count": 3,
     "metadata": {},
     "output_type": "execute_result"
    }
   ],
   "source": [
    "snacks"
   ]
  },
  {
   "cell_type": "code",
   "execution_count": null,
   "id": "5dae2f25",
   "metadata": {},
   "outputs": [],
   "source": []
  }
 ],
 "metadata": {
  "kernelspec": {
   "display_name": "Python 3 (ipykernel)",
   "language": "python",
   "name": "python3"
  },
  "language_info": {
   "codemirror_mode": {
    "name": "ipython",
    "version": 3
   },
   "file_extension": ".py",
   "mimetype": "text/x-python",
   "name": "python",
   "nbconvert_exporter": "python",
   "pygments_lexer": "ipython3",
   "version": "3.9.7"
  }
 },
 "nbformat": 4,
 "nbformat_minor": 5
}
