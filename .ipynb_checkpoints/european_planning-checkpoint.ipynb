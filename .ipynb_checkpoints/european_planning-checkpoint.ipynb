{
 "cells": [
  {
   "cell_type": "markdown",
   "id": "6141657d",
   "metadata": {},
   "source": [
    "### Help with European Data"
   ]
  },
  {
   "cell_type": "markdown",
   "id": "ed9f553b",
   "metadata": {},
   "source": [
    "Below is our product dictionary, `item_dict`. We need to use it to get some data for our European team.\n",
    "\n",
    "Run the cell below to create the dictionary."
   ]
  },
  {
   "cell_type": "code",
   "execution_count": 1,
   "id": "9fa0d2d1",
   "metadata": {},
   "outputs": [],
   "source": [
    "item_dict = {\n",
    "    10001: ('Coffee', 5.99, 'beverage', ['250mL']),\n",
    "    10002: ('Beanie', 9.99, 'clothing', ['Child', 'Adult']),\n",
    "    10003: ('Gloves', 19.99, 'clothing', ['Child', 'Adult']),\n",
    "    10004: ('Sweatshirt', 24.99, 'clothing', ['XS', 'S', 'M', 'L', 'XL', 'XXL']),\n",
    "    10005: ('Helmet', 99.99, 'safety', ['Child', 'Adult']),\n",
    "    10006: ('Snow Pants', 79.99, 'clothing', ['XS', 'S', 'M', 'L', 'XL', 'XXL']),\n",
    "    10007: ('Coat', 119.99, 'clothing', ['S', 'M', 'L']),\n",
    "    10008: ('Ski Poles', 99.99, 'hardware', ['S', 'M', 'L']),\n",
    "    10009: ('Ski Boots', 199.99, 'hardware', [5, 6, 7, 8, 9, 10, 11])\n",
    "}"
   ]
  },
  {
   "cell_type": "markdown",
   "id": "e08dd2c3",
   "metadata": {},
   "source": [
    "### Size Counts\n",
    "\n",
    "First I need a dictionary with the item numbers in `item_dict` as keys, and the number of sizes available for each item as the values. Sizes are stored in lists at the end of each 'row' of data. Key 10001 has a list with one size, 250ml at the end."
   ]
  },
  {
   "cell_type": "code",
   "execution_count": 2,
   "id": "4726c6bc",
   "metadata": {},
   "outputs": [
    {
     "data": {
      "text/plain": [
       "{10001: 1,\n",
       " 10002: 2,\n",
       " 10003: 2,\n",
       " 10004: 6,\n",
       " 10005: 2,\n",
       " 10006: 6,\n",
       " 10007: 3,\n",
       " 10008: 3,\n",
       " 10009: 7}"
      ]
     },
     "execution_count": 2,
     "metadata": {},
     "output_type": "execute_result"
    }
   ],
   "source": [
    "size_counts = {}\n",
    "\n",
    "size_counts"
   ]
  },
  {
   "cell_type": "markdown",
   "id": "11af989d",
   "metadata": {},
   "source": [
    "### New Size Options\n",
    "\n",
    "Now that you've done that, we need to add two products to `size_counts`:\n",
    "\n",
    "* Item 10010 has 4 sizes.\n",
    "* Item 10011 has 7 possible sizes."
   ]
  },
  {
   "cell_type": "code",
   "execution_count": 3,
   "id": "4b29b780",
   "metadata": {},
   "outputs": [
    {
     "data": {
      "text/plain": [
       "{10001: 1,\n",
       " 10002: 2,\n",
       " 10003: 2,\n",
       " 10004: 6,\n",
       " 10005: 2,\n",
       " 10006: 6,\n",
       " 10007: 3,\n",
       " 10008: 3,\n",
       " 10009: 7,\n",
       " 10010: 4,\n",
       " 10011: 7}"
      ]
     },
     "execution_count": 3,
     "metadata": {},
     "output_type": "execute_result"
    }
   ],
   "source": [
    "size_counts"
   ]
  },
  {
   "cell_type": "markdown",
   "id": "53151ddb",
   "metadata": {},
   "source": [
    "### Euro Pricing\n",
    "\n",
    "Finally, pull the prices out of `item_dict` and create a list with converted Euro pricing. Use an exchange rate of .88."
   ]
  },
  {
   "cell_type": "code",
   "execution_count": 5,
   "id": "0526801e",
   "metadata": {},
   "outputs": [
    {
     "data": {
      "text/plain": [
       "[5.27, 8.79, 17.59, 21.99, 87.99, 70.39, 105.59, 87.99, 175.99]"
      ]
     },
     "execution_count": 5,
     "metadata": {},
     "output_type": "execute_result"
    }
   ],
   "source": [
    "exchange_rate = .88\n",
    "euro_prices = []\n",
    "\n",
    "euro_prices"
   ]
  },
  {
   "cell_type": "code",
   "execution_count": null,
   "id": "dab7fd91",
   "metadata": {},
   "outputs": [],
   "source": []
  }
 ],
 "metadata": {
  "kernelspec": {
   "display_name": "Python 3 (ipykernel)",
   "language": "python",
   "name": "python3"
  },
  "language_info": {
   "codemirror_mode": {
    "name": "ipython",
    "version": 3
   },
   "file_extension": ".py",
   "mimetype": "text/x-python",
   "name": "python",
   "nbconvert_exporter": "python",
   "pygments_lexer": "ipython3",
   "version": "3.9.7"
  }
 },
 "nbformat": 4,
 "nbformat_minor": 5
}
