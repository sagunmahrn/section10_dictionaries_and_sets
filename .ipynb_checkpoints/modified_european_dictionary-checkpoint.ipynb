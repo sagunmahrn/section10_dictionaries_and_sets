{
 "cells": [
  {
   "cell_type": "markdown",
   "id": "21913ac1",
   "metadata": {},
   "source": [
    "### New European Dictionary\n",
    "\n",
    "Hi There, We have an new structure for our European data - a nested dictionary. \n",
    "\n",
    "Can you help me retieve some information?\n",
    "\n",
    "Run the top two cells to create the data."
   ]
  },
  {
   "cell_type": "code",
   "execution_count": 1,
   "id": "092fa462",
   "metadata": {},
   "outputs": [],
   "source": [
    "item_ids = [\n",
    "    10001, 10002, 10003, 10004, 10005, \n",
    "    10006, 10007, 10008, 10009\n",
    "]\n",
    "\n",
    "item_names = [\n",
    "    \"Coffee\", \"Beanie\", \"Gloves\", \"Sweatshirt\", \"Helmet\",\n",
    "    \"Snow Pants\", \"Coat\", \"Ski Poles\", \"Ski Boots\"\n",
    "]\n",
    "\n",
    "euro_prices = [\n",
    "    5.27, 8.79, 17.59, 21.99, 87.99, \n",
    "    70.39, 105.59, 87.99, 175.99\n",
    "]\n",
    "\n",
    "item_category = [\n",
    "    \"beverage\", \"clothing\", \"clothing\", \"clothing\", \"safety\",\n",
    "    \"clothing\", \"clothing\", \"hardware\", \"hardware\",\n",
    "]\n",
    "\n",
    "sizes = [\n",
    "    [\"250mL\"],\n",
    "    [\"Child\", \"Adult\"],\n",
    "    [\"Child\", \"Adult\"],\n",
    "    [\"XS\", \"S\", \"M\", \"L\", \"XL\", \"XXL\"],\n",
    "    [\"Child\", \"Adult\"],\n",
    "    [\"XS\", \"S\", \"M\", \"L\", \"XL\", \"XXL\"],\n",
    "    [\"S\", \"M\", \"L\"],\n",
    "    [\"S\", \"M\", \"L\"],\n",
    "    [5, 6, 7, 8, 9, 10, 11],\n",
    "    [\"S\", \"M\", \"L\"],\n",
    "    [5, 6, 7, 8, 9, 10, 11],\n",
    "    [\"NA\"],\n",
    "    [\"S\", \"M\", \"L\", \"Powder\"],\n",
    "]"
   ]
  },
  {
   "cell_type": "code",
   "execution_count": 2,
   "id": "a4e7cdc3",
   "metadata": {},
   "outputs": [
    {
     "data": {
      "text/plain": [
       "{10001: {'name': 'Coffee',\n",
       "  'price': 5.27,\n",
       "  'category': 'beverage',\n",
       "  'sizes': ['250mL']},\n",
       " 10002: {'name': 'Beanie',\n",
       "  'price': 8.79,\n",
       "  'category': 'clothing',\n",
       "  'sizes': ['Child', 'Adult']},\n",
       " 10003: {'name': 'Gloves',\n",
       "  'price': 17.59,\n",
       "  'category': 'clothing',\n",
       "  'sizes': ['Child', 'Adult']},\n",
       " 10004: {'name': 'Sweatshirt',\n",
       "  'price': 21.99,\n",
       "  'category': 'clothing',\n",
       "  'sizes': ['XS', 'S', 'M', 'L', 'XL', 'XXL']},\n",
       " 10005: {'name': 'Helmet',\n",
       "  'price': 87.99,\n",
       "  'category': 'safety',\n",
       "  'sizes': ['Child', 'Adult']},\n",
       " 10006: {'name': 'Snow Pants',\n",
       "  'price': 70.39,\n",
       "  'category': 'clothing',\n",
       "  'sizes': ['XS', 'S', 'M', 'L', 'XL', 'XXL']},\n",
       " 10007: {'name': 'Coat',\n",
       "  'price': 105.59,\n",
       "  'category': 'clothing',\n",
       "  'sizes': ['S', 'M', 'L']},\n",
       " 10008: {'name': 'Ski Poles',\n",
       "  'price': 87.99,\n",
       "  'category': 'hardware',\n",
       "  'sizes': ['S', 'M', 'L']},\n",
       " 10009: {'name': 'Ski Boots',\n",
       "  'price': 175.99,\n",
       "  'category': 'hardware',\n",
       "  'sizes': [5, 6, 7, 8, 9, 10, 11]}}"
      ]
     },
     "execution_count": 2,
     "metadata": {},
     "output_type": "execute_result"
    }
   ],
   "source": [
    "# Note: this is a dictionary comprension - we will learn this syntax in the next section\n",
    "\n",
    "euro_data = {\n",
    "    item_id: {\"name\": name, \"price\": price, \"category\": category, \"sizes\": sizes}\n",
    "    for item_id, name, price, category, sizes in zip(\n",
    "        item_ids, item_names, euro_prices, item_category, sizes\n",
    "    )\n",
    "}\n",
    "\n",
    "euro_data"
   ]
  },
  {
   "cell_type": "markdown",
   "id": "3511a1cb",
   "metadata": {},
   "source": [
    "### Lookup Data\n",
    "\n",
    "Can you check the price for item 10009? I want to make sure we loaded the data correctly."
   ]
  },
  {
   "cell_type": "code",
   "execution_count": 4,
   "id": "952ed07f",
   "metadata": {},
   "outputs": [
    {
     "data": {
      "text/plain": [
       "175.99"
      ]
     },
     "execution_count": 4,
     "metadata": {},
     "output_type": "execute_result"
    }
   ],
   "source": []
  },
  {
   "cell_type": "markdown",
   "id": "7d56ebd8",
   "metadata": {},
   "source": [
    "### European Sizes\n",
    "\n",
    "Now can you change the size for the boots (item 10009) to European shoe sizing? \n",
    "\n",
    "The European sizes are in a list below."
   ]
  },
  {
   "cell_type": "code",
   "execution_count": 5,
   "id": "8205811e",
   "metadata": {},
   "outputs": [
    {
     "data": {
      "text/plain": [
       "{10001: {'name': 'Coffee',\n",
       "  'price': 5.27,\n",
       "  'category': 'beverage',\n",
       "  'sizes': ['250mL']},\n",
       " 10002: {'name': 'Beanie',\n",
       "  'price': 8.79,\n",
       "  'category': 'clothing',\n",
       "  'sizes': ['Child', 'Adult']},\n",
       " 10003: {'name': 'Gloves',\n",
       "  'price': 17.59,\n",
       "  'category': 'clothing',\n",
       "  'sizes': ['Child', 'Adult']},\n",
       " 10004: {'name': 'Sweatshirt',\n",
       "  'price': 21.99,\n",
       "  'category': 'clothing',\n",
       "  'sizes': ['XS', 'S', 'M', 'L', 'XL', 'XXL']},\n",
       " 10005: {'name': 'Helmet',\n",
       "  'price': 87.99,\n",
       "  'category': 'safety',\n",
       "  'sizes': ['Child', 'Adult']},\n",
       " 10006: {'name': 'Snow Pants',\n",
       "  'price': 70.39,\n",
       "  'category': 'clothing',\n",
       "  'sizes': ['XS', 'S', 'M', 'L', 'XL', 'XXL']},\n",
       " 10007: {'name': 'Coat',\n",
       "  'price': 105.59,\n",
       "  'category': 'clothing',\n",
       "  'sizes': ['S', 'M', 'L']},\n",
       " 10008: {'name': 'Ski Poles',\n",
       "  'price': 87.99,\n",
       "  'category': 'hardware',\n",
       "  'sizes': ['S', 'M', 'L']},\n",
       " 10009: {'name': 'Ski Boots',\n",
       "  'price': 175.99,\n",
       "  'category': 'hardware',\n",
       "  'sizes': [37, 38, 39.5, 40.5, 41.5, 43.5, 44.5, 46.5]}}"
      ]
     },
     "execution_count": 5,
     "metadata": {},
     "output_type": "execute_result"
    }
   ],
   "source": [
    "boot_sizes = [37, 38, 39.5, 40.5, 41.5, 43.5, 44.5, 46.5]"
   ]
  },
  {
   "cell_type": "markdown",
   "id": "ca419637",
   "metadata": {},
   "source": [
    "### Size Dictionary\n",
    "\n",
    "Thanks for you help. The last thing I need is a dictionary with item names as keys, and sizes (keep them in a list) as the values."
   ]
  },
  {
   "cell_type": "code",
   "execution_count": 8,
   "id": "9f3fadc7",
   "metadata": {},
   "outputs": [
    {
     "data": {
      "text/plain": [
       "{'Coffee': ['250mL'],\n",
       " 'Beanie': ['Child', 'Adult'],\n",
       " 'Gloves': ['Child', 'Adult'],\n",
       " 'Sweatshirt': ['XS', 'S', 'M', 'L', 'XL', 'XXL'],\n",
       " 'Helmet': ['Child', 'Adult'],\n",
       " 'Snow Pants': ['XS', 'S', 'M', 'L', 'XL', 'XXL'],\n",
       " 'Coat': ['S', 'M', 'L'],\n",
       " 'Ski Poles': ['S', 'M', 'L'],\n",
       " 'Ski Boots': [37, 38, 39.5, 40.5, 41.5, 43.5, 44.5, 46.5]}"
      ]
     },
     "execution_count": 8,
     "metadata": {},
     "output_type": "execute_result"
    }
   ],
   "source": [
    "product_sizes = {}"
   ]
  },
  {
   "cell_type": "code",
   "execution_count": null,
   "id": "82c3171b",
   "metadata": {},
   "outputs": [],
   "source": []
  }
 ],
 "metadata": {
  "kernelspec": {
   "display_name": "Python 3 (ipykernel)",
   "language": "python",
   "name": "python3"
  },
  "language_info": {
   "codemirror_mode": {
    "name": "ipython",
    "version": 3
   },
   "file_extension": ".py",
   "mimetype": "text/x-python",
   "name": "python",
   "nbconvert_exporter": "python",
   "pygments_lexer": "ipython3",
   "version": "3.9.7"
  }
 },
 "nbformat": 4,
 "nbformat_minor": 5
}
