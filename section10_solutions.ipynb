{
 "cells": [
  {
   "cell_type": "markdown",
   "id": "643c4209",
   "metadata": {},
   "source": [
    "#### Assignment: Dictionary Basics"
   ]
  },
  {
   "cell_type": "code",
   "execution_count": 1,
   "id": "0ee0faf1",
   "metadata": {},
   "outputs": [],
   "source": [
    "# Create a dictionary for each employee and their snack\n",
    "snacks = {\n",
    "    'Sally': 'Popcorn',\n",
    "    'Ricard': 'Chocolate Ice Cream',\n",
    "    'Stuart': 'Apple Pie',\n",
    "    'Jerry': 'Raisins',\n",
    "    'Sierra': 'Peanut Butter Cookies'\n",
    "}"
   ]
  },
  {
   "cell_type": "code",
   "execution_count": 2,
   "id": "28e44a7c",
   "metadata": {},
   "outputs": [
    {
     "data": {
      "text/plain": [
       "'Apple Pie'"
      ]
     },
     "execution_count": 2,
     "metadata": {},
     "output_type": "execute_result"
    }
   ],
   "source": [
    "# look up Stuart's snack\n",
    "snacks['Stuart']"
   ]
  },
  {
   "cell_type": "code",
   "execution_count": 3,
   "id": "5d7f0fb9",
   "metadata": {},
   "outputs": [
    {
     "data": {
      "text/plain": [
       "{'Sally': 'Popcorn',\n",
       " 'Ricard': 'Chocolate Ice Cream',\n",
       " 'Stuart': 'Apple Pie',\n",
       " 'Jerry': 'Fig Bars',\n",
       " 'Alfie': 'Cheese and Crackers'}"
      ]
     },
     "execution_count": 3,
     "metadata": {},
     "output_type": "execute_result"
    }
   ],
   "source": [
    "# Add Alfie\n",
    "snacks['Alfie'] = 'Cheese and Crackers'\n",
    "\n",
    "# Change Jerry's Snack by Assignment\n",
    "snacks['Jerry'] = 'Fig Bars'\n",
    "\n",
    "# Remove Sierra's entry\n",
    "del snacks['Sierra']\n",
    "\n",
    "snacks"
   ]
  },
  {
   "cell_type": "markdown",
   "id": "c43431a9",
   "metadata": {},
   "source": [
    "#### Assignment: Dictionary Creation"
   ]
  },
  {
   "cell_type": "code",
   "execution_count": 4,
   "id": "a73f1ac4",
   "metadata": {
    "scrolled": true
   },
   "outputs": [],
   "source": [
    "items = ['skis', 'snowboard', 'goggles', 'boots']\n",
    "inventory = [10, 0, 0, 7]"
   ]
  },
  {
   "cell_type": "code",
   "execution_count": 5,
   "id": "7bbe2a66",
   "metadata": {},
   "outputs": [],
   "source": [
    "# Create empty dictionary\n",
    "inventory_status = {}\n",
    "\n",
    "# Use enumerate to grab index and elements of items\n",
    "# use conditional logic to create dictionary entry\n",
    "# based off value of inventory\n",
    "for i, item in enumerate(items):\n",
    "    if inventory[i] == 0:\n",
    "        inventory_status[item] = 'sold out'\n",
    "    else:\n",
    "        inventory_status[item] = 'in stock'"
   ]
  },
  {
   "cell_type": "code",
   "execution_count": 6,
   "id": "ed6a3bf0",
   "metadata": {},
   "outputs": [
    {
     "data": {
      "text/plain": [
       "{'skis': 'in stock',\n",
       " 'snowboard': 'sold out',\n",
       " 'goggles': 'sold out',\n",
       " 'boots': 'in stock'}"
      ]
     },
     "execution_count": 6,
     "metadata": {},
     "output_type": "execute_result"
    }
   ],
   "source": [
    "inventory_status"
   ]
  },
  {
   "cell_type": "markdown",
   "id": "91388456",
   "metadata": {},
   "source": [
    "#### Assignment: Dictionary Methods"
   ]
  },
  {
   "cell_type": "code",
   "execution_count": 7,
   "id": "d1dc23ad",
   "metadata": {},
   "outputs": [],
   "source": [
    "item_dict = {10001: ('Coffee', 5.99, 'beverage', ['250mL']),\n",
    "             10002: ('Beanie', 9.99, 'clothing', ['Child', 'Adult']),\n",
    "             10003: ('Gloves', 19.99, 'clothing', ['Child', 'Adult']),\n",
    "             10004: ('Sweatshirt', 24.99, 'clothing', ['XS', 'S', 'M', 'L', 'XL', 'XXL']),\n",
    "             10005: ('Helmet', 99.99, 'safety', ['Child', 'Adult']),\n",
    "             10006: ('Snow Pants', 79.99, 'clothing', ['XS', 'S', 'M', 'L', 'XL', 'XXL']),\n",
    "             10007: ('Coat', 119.99, 'clothing', ['S', 'M', 'L']),\n",
    "             10008: ('Ski Poles', 99.99, 'hardware', ['S', 'M', 'L']),\n",
    "             10009: ('Ski Boots', 199.99, 'hardware', [5, 6, 7, 8, 9, 10, 11])}"
   ]
  },
  {
   "cell_type": "code",
   "execution_count": 8,
   "id": "531acaa5",
   "metadata": {},
   "outputs": [
    {
     "data": {
      "text/plain": [
       "{10001: 1,\n",
       " 10002: 2,\n",
       " 10003: 2,\n",
       " 10004: 6,\n",
       " 10005: 2,\n",
       " 10006: 6,\n",
       " 10007: 3,\n",
       " 10008: 3,\n",
       " 10009: 7}"
      ]
     },
     "execution_count": 8,
     "metadata": {},
     "output_type": "execute_result"
    }
   ],
   "source": [
    "size_counts = {}\n",
    "\n",
    "# Use Items method to access keys and values\n",
    "# then create entry with same key but length of size list as value\n",
    "for key, value in item_dict.items():\n",
    "    size_counts[key] = len(value[3])\n",
    "\n",
    "size_counts"
   ]
  },
  {
   "cell_type": "code",
   "execution_count": 9,
   "id": "983679a6",
   "metadata": {},
   "outputs": [
    {
     "data": {
      "text/plain": [
       "{10001: 1,\n",
       " 10002: 2,\n",
       " 10003: 2,\n",
       " 10004: 6,\n",
       " 10005: 2,\n",
       " 10006: 6,\n",
       " 10007: 3,\n",
       " 10008: 3,\n",
       " 10009: 7,\n",
       " 10010: 4,\n",
       " 10011: 7}"
      ]
     },
     "execution_count": 9,
     "metadata": {},
     "output_type": "execute_result"
    }
   ],
   "source": [
    "# Use the update method to add a group of key-value pairs to a dictionary\n",
    "new_size_counts = {10010: 4, 10011: 7}\n",
    "size_counts.update(new_size_counts)\n",
    "\n",
    "size_counts"
   ]
  },
  {
   "cell_type": "code",
   "execution_count": 10,
   "id": "454124c5",
   "metadata": {},
   "outputs": [
    {
     "data": {
      "text/plain": [
       "[5.27, 8.79, 17.59, 21.99, 87.99, 70.39, 105.59, 87.99, 175.99]"
      ]
     },
     "execution_count": 10,
     "metadata": {},
     "output_type": "execute_result"
    }
   ],
   "source": [
    "euro_prices = []\n",
    "exchange_rate = .88\n",
    "\n",
    "# Since we only need info from the dictioanry values, use .values()\n",
    "# loop through item_dict.values()\n",
    "# use indexing to grab the price element (index 1),\n",
    "# then convert and append to euro price list\n",
    "\n",
    "for value in item_dict.values():\n",
    "    euro_prices.append(round(value[1] * exchange_rate, 2))\n",
    "\n",
    "euro_prices"
   ]
  },
  {
   "cell_type": "markdown",
   "id": "de45aaab",
   "metadata": {},
   "source": [
    "#### Assignment: Zip()"
   ]
  },
  {
   "cell_type": "code",
   "execution_count": 1,
   "id": "27240205",
   "metadata": {},
   "outputs": [],
   "source": [
    "# Data for dictionary\n",
    "\n",
    "item_ids = [\n",
    "    10001, 10002, 10003, 10004, 10005, \n",
    "    10006, 10007, 10008, 10009\n",
    "]\n",
    "\n",
    "item_names = [\n",
    "    \"Coffee\", \"Beanie\", \"Gloves\", \"Sweatshirt\", \"Helmet\",\n",
    "    \"Snow Pants\", \"Coat\", \"Ski Poles\", \"Ski Boots\"\n",
    "]\n",
    "\n",
    "euro_prices = [\n",
    "    5.27, 8.79, 17.59, 21.99, 87.99, \n",
    "    70.39, 105.59, 87.99, 175.99\n",
    "]\n",
    "\n",
    "item_category = [\n",
    "    \"beverage\", \"clothing\", \"clothing\", \"clothing\", \"safety\",\n",
    "    \"clothing\", \"clothing\", \"hardware\", \"hardware\",\n",
    "]\n",
    "\n",
    "sizes = [\n",
    "    [\"250mL\"],\n",
    "    [\"Child\", \"Adult\"],\n",
    "    [\"Child\", \"Adult\"],\n",
    "    [\"XS\", \"S\", \"M\", \"L\", \"XL\", \"XXL\"],\n",
    "    [\"Child\", \"Adult\"],\n",
    "    [\"XS\", \"S\", \"M\", \"L\", \"XL\", \"XXL\"],\n",
    "    [\"S\", \"M\", \"L\"],\n",
    "    [\"S\", \"M\", \"L\"],\n",
    "    [5, 6, 7, 8, 9, 10, 11],\n",
    "    [\"S\", \"M\", \"L\"],\n",
    "    [5, 6, 7, 8, 9, 10, 11],\n",
    "    [\"NA\"],\n",
    "    [\"S\", \"M\", \"L\", \"Powder\"],\n",
    "]\n"
   ]
  },
  {
   "cell_type": "code",
   "execution_count": 12,
   "id": "ee15a7be",
   "metadata": {
    "scrolled": true
   },
   "outputs": [
    {
     "data": {
      "text/plain": [
       "{10001: ('Coffee', 5.27, 'beverage', ['250mL']),\n",
       " 10002: ('Beanie', 8.79, 'clothing', ['Child', 'Adult']),\n",
       " 10003: ('Gloves', 17.59, 'clothing', ['Child', 'Adult']),\n",
       " 10004: ('Sweatshirt', 21.99, 'clothing', ['XS', 'S', 'M', 'L', 'XL', 'XXL']),\n",
       " 10005: ('Helmet', 87.99, 'safety', ['Child', 'Adult']),\n",
       " 10006: ('Snow Pants', 70.39, 'clothing', ['XS', 'S', 'M', 'L', 'XL', 'XXL']),\n",
       " 10007: ('Coat', 105.59, 'clothing', ['S', 'M', 'L']),\n",
       " 10008: ('Ski Poles', 87.99, 'hardware', ['S', 'M', 'L']),\n",
       " 10009: ('Ski Boots', 175.99, 'hardware', [5, 6, 7, 8, 9, 10, 11])}"
      ]
     },
     "execution_count": 12,
     "metadata": {},
     "output_type": "execute_result"
    }
   ],
   "source": [
    "# Call Zip twice - once to pair keys and values for dictionary\n",
    "# once to stitch together lists that will be our values\n",
    "\n",
    "euro_items = dict(zip(item_ids, zip(item_names, euro_prices, item_category, sizes)))\n",
    "\n",
    "euro_items"
   ]
  },
  {
   "cell_type": "markdown",
   "id": "89551f35",
   "metadata": {},
   "source": [
    "#### Assignment: Nested Dictionaries"
   ]
  },
  {
   "cell_type": "code",
   "execution_count": 3,
   "id": "d1c6390c",
   "metadata": {},
   "outputs": [],
   "source": [
    "# Dictionary Comprehension to build dictionary \n",
    "# we will cover these in the functions section\n",
    "euro_data = {\n",
    "    item_id: {\n",
    "        'name': name,\n",
    "        'price': price,\n",
    "        'category': category,\n",
    "        'sizes': sizes\n",
    "        }\n",
    "    for item_id, name, price, category, sizes\n",
    "    in zip(item_ids, item_names, euro_prices, item_category, sizes)}"
   ]
  },
  {
   "cell_type": "code",
   "execution_count": 14,
   "id": "3506fdbc",
   "metadata": {},
   "outputs": [
    {
     "data": {
      "text/plain": [
       "175.99"
      ]
     },
     "execution_count": 14,
     "metadata": {},
     "output_type": "execute_result"
    }
   ],
   "source": [
    "# Look up price for item 10009\n",
    "# reference inner and outer key to do so\n",
    "\n",
    "euro_data[10009]['price']"
   ]
  },
  {
   "cell_type": "code",
   "execution_count": 15,
   "id": "c704d469",
   "metadata": {},
   "outputs": [],
   "source": [
    "# Assign new sizes to item 10009\n",
    "# reference inner and outer key to do so\n",
    "\n",
    "boot_sizes = [37, 38, 39.5, 40.5, 41.5, 43.5, 44.5, 46.5]\n",
    "\n",
    "euro_data[10009]['sizes'] = boot_sizes"
   ]
  },
  {
   "cell_type": "code",
   "execution_count": 4,
   "id": "9778053b",
   "metadata": {},
   "outputs": [
    {
     "data": {
      "text/plain": [
       "{'Coffee': ['250mL'],\n",
       " 'Beanie': ['Child', 'Adult'],\n",
       " 'Gloves': ['Child', 'Adult'],\n",
       " 'Sweatshirt': ['XS', 'S', 'M', 'L', 'XL', 'XXL'],\n",
       " 'Helmet': ['Child', 'Adult'],\n",
       " 'Snow Pants': ['XS', 'S', 'M', 'L', 'XL', 'XXL'],\n",
       " 'Coat': ['S', 'M', 'L'],\n",
       " 'Ski Poles': ['S', 'M', 'L'],\n",
       " 'Ski Boots': [5, 6, 7, 8, 9, 10, 11]}"
      ]
     },
     "execution_count": 4,
     "metadata": {},
     "output_type": "execute_result"
    }
   ],
   "source": [
    "# Create new dictionary, product_sizes\n",
    "# Loop through dictionary values (all the info we need is in values)\n",
    "# Create new dictionary entries by assignment\n",
    "# With product names as keys, and sizes as values\n",
    "\n",
    "product_sizes = {}\n",
    "\n",
    "for product_details in euro_data.values():\n",
    "    product_sizes[product_details['name']] = product_details['sizes']\n",
    "    \n",
    "\n",
    "product_sizes"
   ]
  },
  {
   "cell_type": "markdown",
   "id": "bb29d0ef",
   "metadata": {},
   "source": [
    "#### Assignment: Sets"
   ]
  },
  {
   "cell_type": "code",
   "execution_count": 5,
   "id": "8db76940",
   "metadata": {},
   "outputs": [
    {
     "data": {
      "text/plain": [
       "{10001: ('Coffee', 5.27, 'beverage', ['250mL']),\n",
       " 10002: ('Beanie', 8.79, 'clothing', ['Child', 'Adult']),\n",
       " 10003: ('Gloves', 17.59, 'clothing', ['Child', 'Adult']),\n",
       " 10004: ('Sweatshirt', 21.99, 'clothing', ['XS', 'S', 'M', 'L', 'XL', 'XXL']),\n",
       " 10005: ('Helmet', 87.99, 'safety', ['Child', 'Adult']),\n",
       " 10006: ('Snow Pants', 70.39, 'clothing', ['XS', 'S', 'M', 'L', 'XL', 'XXL']),\n",
       " 10007: ('Coat', 105.59, 'clothing', ['S', 'M', 'L']),\n",
       " 10008: ('Ski Poles', 87.99, 'hardware', ['S', 'M', 'L']),\n",
       " 10009: ('Ski Boots', 175.99, 'hardware', [5, 6, 7, 8, 9, 10, 11])}"
      ]
     },
     "execution_count": 5,
     "metadata": {},
     "output_type": "execute_result"
    }
   ],
   "source": [
    "euro_items = dict(zip(item_ids, zip(item_names, euro_prices, item_category, sizes)))\n",
    "\n",
    "\n",
    "euro_items"
   ]
  },
  {
   "cell_type": "code",
   "execution_count": 8,
   "id": "c1871f61",
   "metadata": {},
   "outputs": [
    {
     "name": "stdout",
     "output_type": "stream",
     "text": [
      "{'hardware', 'clothing', 'beverage', 'safety'}\n"
     ]
    }
   ],
   "source": [
    "categories = []\n",
    "\n",
    "for value in euro_items.values():\n",
    "    categories.append(value[2])\n",
    "\n",
    "unique_categories = set(categories)\n",
    "\n",
    "print(unique_categories)"
   ]
  },
  {
   "cell_type": "code",
   "execution_count": 9,
   "id": "f56aaed4",
   "metadata": {},
   "outputs": [
    {
     "name": "stdout",
     "output_type": "stream",
     "text": [
      "{'hardware', 'clothing', 'beverage', 'safety'}\n"
     ]
    }
   ],
   "source": [
    "# shorter solution, with set .add() to add values \n",
    "# directly to empty set\n",
    "unique_categories = set()\n",
    "\n",
    "for value in euro_items.values():\n",
    "    unique_categories.add(value[2])\n",
    "    \n",
    "print(unique_categories)   "
   ]
  },
  {
   "cell_type": "code",
   "execution_count": 10,
   "id": "9161fbe4",
   "metadata": {},
   "outputs": [
    {
     "data": {
      "text/plain": [
       "4"
      ]
     },
     "execution_count": 10,
     "metadata": {},
     "output_type": "execute_result"
    }
   ],
   "source": [
    "# number of unique categories\n",
    "len(unique_categories)"
   ]
  },
  {
   "cell_type": "code",
   "execution_count": 14,
   "id": "20c171d6",
   "metadata": {},
   "outputs": [
    {
     "data": {
      "text/plain": [
       "False"
      ]
     },
     "execution_count": 14,
     "metadata": {},
     "output_type": "execute_result"
    }
   ],
   "source": [
    "# check if 'outdoor' is in our categories\n",
    "'outdoor' in unique_categories"
   ]
  },
  {
   "cell_type": "markdown",
   "id": "573fcef3",
   "metadata": {},
   "source": [
    "#### Assignment: Set Operations"
   ]
  },
  {
   "cell_type": "code",
   "execution_count": 21,
   "id": "c3ef6f6d",
   "metadata": {},
   "outputs": [],
   "source": [
    "# Customer Lists\n",
    "friday_customers = [\n",
    "    'C00004', 'C00007', 'C00015', 'C00016', 'C00020',\n",
    "    'C00010', 'C00006', 'C00001', 'C00003', 'C00014',\n",
    "    'C00001', 'C00001', 'C00005', 'C00008', 'C00013'\n",
    "    ]\n",
    "\n",
    "saturday_customers = [\n",
    "    'C00004', 'C00017', 'C00019', 'C00002', 'C00008',\n",
    "    'C00021', 'C00022'\n",
    "    ]\n",
    "\n",
    "sunday_customers = ['C00006', 'C00018', 'C00018', 'C00010', 'C00016']"
   ]
  },
  {
   "cell_type": "code",
   "execution_count": 22,
   "id": "b498c357",
   "metadata": {},
   "outputs": [
    {
     "data": {
      "text/plain": [
       "{'C00002',\n",
       " 'C00004',\n",
       " 'C00006',\n",
       " 'C00008',\n",
       " 'C00010',\n",
       " 'C00016',\n",
       " 'C00017',\n",
       " 'C00018',\n",
       " 'C00019',\n",
       " 'C00021',\n",
       " 'C00022'}"
      ]
     },
     "execution_count": 22,
     "metadata": {},
     "output_type": "execute_result"
    }
   ],
   "source": [
    "# Collect Unique Weekend Customers - Union between Saturday and Sunday\n",
    "weekend_set = set(saturday_customers).union(set(sunday_customers))\n",
    "\n",
    "weekend_set"
   ]
  },
  {
   "cell_type": "code",
   "execution_count": 23,
   "id": "8da8249d",
   "metadata": {},
   "outputs": [
    {
     "data": {
      "text/plain": [
       "{'C00004', 'C00006', 'C00008', 'C00010', 'C00016'}"
      ]
     },
     "execution_count": 23,
     "metadata": {},
     "output_type": "execute_result"
    }
   ],
   "source": [
    "# Collect Customers who purchased on Friday AND on weekend\n",
    "# Intersection between Friday and Weekend Sets\n",
    "set(friday_customers).intersection(weekend_set)"
   ]
  },
  {
   "cell_type": "code",
   "execution_count": null,
   "id": "aec32fda",
   "metadata": {},
   "outputs": [],
   "source": []
  }
 ],
 "metadata": {
  "kernelspec": {
   "display_name": "Python 3 (ipykernel)",
   "language": "python",
   "name": "python3"
  },
  "language_info": {
   "codemirror_mode": {
    "name": "ipython",
    "version": 3
   },
   "file_extension": ".py",
   "mimetype": "text/x-python",
   "name": "python",
   "nbconvert_exporter": "python",
   "pygments_lexer": "ipython3",
   "version": "3.9.7"
  }
 },
 "nbformat": 4,
 "nbformat_minor": 5
}
